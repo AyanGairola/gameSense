{
 "cells": [
  {
   "cell_type": "code",
   "execution_count": null,
   "metadata": {},
   "outputs": [],
   "source": [
    "from roboflow import Roboflow\n",
    "\n",
    "rf = Roboflow(api_key=\"YOUR_ROBOFLOW_API_KEY\")\n",
    "project = rf.workspace(\"jasiu-wachowiak-kqpcy\").project(\"tennis-iu371\")\n",
    "version = project.version(3)\n",
    "dataset = version.download(\"yolov5\")\n"
   ]
  },
  {
   "cell_type": "code",
   "execution_count": null,
   "metadata": {},
   "outputs": [],
   "source": [
    "import shutil\n",
    "shutil.move(\"Tennis-3/train\",\n",
    "            \"Tennis-3/Tennis-3/train\")\n",
    "shutil.move(\"Tennis-3/test\",\n",
    "            \"Tennis-3/Tennis-3/test\")\n",
    "shutil.move(\"Tennis-3/valid\",\n",
    "            \"Tennis-3/Tennis-3/valid\")"
   ]
  },
  {
   "cell_type": "code",
   "execution_count": null,
   "metadata": {},
   "outputs": [],
   "source": [
    "!yolo task=detect mode=train model=yolov5l6u.pt data={dataset.location}/data.yaml epochs=60 imgsz=640"
   ]
  },
  {
   "cell_type": "code",
   "execution_count": null,
   "metadata": {},
   "outputs": [],
   "source": []
  }
 ],
 "metadata": {
  "language_info": {
   "name": "python"
  }
 },
 "nbformat": 4,
 "nbformat_minor": 2
}
